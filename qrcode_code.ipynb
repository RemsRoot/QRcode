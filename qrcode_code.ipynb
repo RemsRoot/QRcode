{
 "cells": [
  {
   "cell_type": "code",
   "execution_count": 1,
   "metadata": {},
   "outputs": [],
   "source": [
    "# pip install pillow\r\n",
    "# pip install qrcode\r\n",
    "# ou faire cmd : pip install qrcode[pil]\r\n",
    "import qrcode"
   ]
  },
  {
   "cell_type": "code",
   "execution_count": 2,
   "metadata": {},
   "outputs": [],
   "source": [
    "img = qrcode.make(\"https://www.instagram.com/kodebar.pro/\")\r\n",
    "img.save('qrcode_Kodebar.png')"
   ]
  },
  {
   "cell_type": "code",
   "execution_count": 7,
   "metadata": {},
   "outputs": [],
   "source": [
    "qr = qrcode.QRCode(\r\n",
    "    version=3,\r\n",
    "    box_size =3,\r\n",
    "    border=5\r\n",
    ")\r\n",
    "\r\n",
    "qr.add_data('https://www.instagram.com/kodebar.pro/')\r\n",
    "qr.make(fit=True)\r\n",
    "\r\n",
    "img = qr.make_image(fill_color=\"blue\", back_color=\"white\")\r\n",
    "img.save('qrcode_Kodebar_V2.png')"
   ]
  },
  {
   "cell_type": "code",
   "execution_count": 8,
   "metadata": {},
   "outputs": [],
   "source": [
    "# pip install opencv-python\r\n",
    "import cv2"
   ]
  },
  {
   "cell_type": "code",
   "execution_count": 11,
   "metadata": {},
   "outputs": [
    {
     "name": "stdout",
     "output_type": "stream",
     "text": [
      "https://www.instagram.com/kodebar.pro/\n"
     ]
    }
   ],
   "source": [
    "d = cv2.QRCodeDetector()\r\n",
    "val, point, qrcode = d.detectAndDecode(cv2.imread('qrcode_Kodebar.png'))\r\n",
    "\r\n",
    "print(val)"
   ]
  }
 ],
 "metadata": {
  "kernelspec": {
   "display_name": "Python 3.8.5 64-bit",
   "name": "python385jvsc74a57bd03c7578cda80827723bf9258838bf126b793cd08241078dae446e5c3babaae6d0"
  },
  "language_info": {
   "name": "python",
   "version": ""
  },
  "metadata": {
   "interpreter": {
    "hash": "3c7578cda80827723bf9258838bf126b793cd08241078dae446e5c3babaae6d0"
   }
  },
  "orig_nbformat": 2
 },
 "nbformat": 4,
 "nbformat_minor": 2
}