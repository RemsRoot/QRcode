{
 "cells": [
  {
   "cell_type": "code",
   "execution_count": 1,
   "metadata": {},
   "outputs": [],
   "source": [
    "# pip install pillow\r\n",
    "# pip install qrcode\r\n",
    "# ou faire cmd : pip install qrcode[pil]\r\n",
    "import qrcode"
   ]
  },
  {
   "cell_type": "code",
   "execution_count": 2,
   "metadata": {},
   "outputs": [],
   "source": [
    "img = qrcode.make(\"https://www.instagram.com/kodebar.pro/\")\r\n",
    "img.save('qrcode_Kodebar.png')"
   ]
  },
  {
   "cell_type": "code",
   "execution_count": 7,
   "metadata": {},
   "outputs": [],
   "source": [
    "qr = qrcode.QRCode(\r\n",
    "    version=3,\r\n",
    "    box_size =3,\r\n",
    "    border=5\r\n",
    ")\r\n",
    "\r\n",
    "qr.add_data('https://www.instagram.com/kodebar.pro/')\r\n",
    "qr.make(fit=True)\r\n",
    "\r\n",
    "img = qr.make_image(fill_color=\"blue\", back_color=\"white\")\r\n",
    "img.save('qrcode_Kodebar_V2.png')"
   ]
  },
  {
   "cell_type": "code",
   "execution_count": 8,
   "metadata": {},
   "outputs": [],
   "source": [
    "# pip install opencv-python\r\n",
    "import cv2"
   ]
  },
  {
   "cell_type": "code",
   "execution_count": 11,
   "metadata": {},
   "outputs": [
    {
     "name": "stdout",
     "output_type": "stream",
     "text": [
      "https://www.instagram.com/kodebar.pro/\n"
     ]
    }
   ],
   "source": [
    "d = cv2.QRCodeDetector()\r\n",
    "val, point, qrcode = d.detectAndDecode(cv2.imread('qrcode_Kodebar.png'))\r\n",
    "\r\n",
    "print(val)"
   ]
  },
  {
   "cell_type": "code",
   "execution_count": 6,
   "metadata": {},
   "outputs": [
    {
     "data": {
      "text/plain": "'new_code1.png'"
     },
     "execution_count": 6,
     "metadata": {},
     "output_type": "execute_result"
    }
   ],
   "source": [
    "# pip install python-barcode \r\n",
    "\r\n",
    "# import EAN13 from barcode module\r\n",
    "from barcode import EAN13\r\n",
    "  \r\n",
    "# import ImageWriter to generate an image file\r\n",
    "from barcode.writer import ImageWriter\r\n",
    "  \r\n",
    "# Make sure to pass the number as string\r\n",
    "number = '5901234123457'\r\n",
    "\r\n",
    "# Now, let's create an object of EAN13 class and \r\n",
    "# pass the number with the ImageWriter() as the \r\n",
    "# writer\r\n",
    "my_code = EAN13(number, writer=ImageWriter())\r\n",
    "  \r\n",
    "# Our barcode is ready. Let's save it.\r\n",
    "my_code.save(\"new_code1\")"
   ]
  },
  {
   "cell_type": "code",
   "execution_count": 7,
   "metadata": {},
   "outputs": [
    {
     "name": "stdout",
     "output_type": "stream",
     "text": [
      "b'5901234123457'\n",
      "EAN13\n"
     ]
    }
   ],
   "source": [
    "\"\"\" Lecteur de code barre \"\"\"\r\n",
    "# pip install pyzbar\r\n",
    "# Importing library\r\n",
    "import cv2\r\n",
    "from pyzbar.pyzbar import decode\r\n",
    "  \r\n",
    "# Make one method to decode the barcode\r\n",
    "def BarcodeReader(image):\r\n",
    "     \r\n",
    "    # read the image in numpy array using cv2\r\n",
    "    img = cv2.imread(image)\r\n",
    "      \r\n",
    "    # Decode the barcode image\r\n",
    "    detectedBarcodes = decode(img)\r\n",
    "      \r\n",
    "    # If not detected then print the message\r\n",
    "    if not detectedBarcodes:\r\n",
    "        print(\"Barcode Not Detected or your barcode is blank/corrupted!\")\r\n",
    "    else:\r\n",
    "       \r\n",
    "          # Traverse through all the detected barcodes in image\r\n",
    "        for barcode in detectedBarcodes: \r\n",
    "           \r\n",
    "            # Locate the barcode position in image\r\n",
    "            (x, y, w, h) = barcode.rect\r\n",
    "             \r\n",
    "            # Put the rectangle in image using\r\n",
    "            # cv2 to heighlight the barcode\r\n",
    "            cv2.rectangle(img, (x-10, y-10),\r\n",
    "                          (x + w+10, y + h+10),\r\n",
    "                          (255, 0, 0), 2)\r\n",
    "             \r\n",
    "            if barcode.data!=\"\":\r\n",
    "               \r\n",
    "            # Print the barcode data\r\n",
    "                print(barcode.data)\r\n",
    "                print(barcode.type)\r\n",
    "                 \r\n",
    "    #Display the image\r\n",
    "    cv2.imshow(\"Image\", img)\r\n",
    "    cv2.waitKey(0)\r\n",
    "    cv2.destroyAllWindows()\r\n",
    " \r\n",
    "if __name__ == \"__main__\":\r\n",
    "  # Take the image from user\r\n",
    "    image=\"new_code1.png\"\r\n",
    "    BarcodeReader(image)"
   ]
  }
 ],
 "metadata": {
  "kernelspec": {
   "display_name": "Python 3.8.5 64-bit",
   "name": "python385jvsc74a57bd03c7578cda80827723bf9258838bf126b793cd08241078dae446e5c3babaae6d0"
  },
  "language_info": {
   "codemirror_mode": {
    "name": "ipython",
    "version": 3
   },
   "file_extension": ".py",
   "mimetype": "text/x-python",
   "name": "python",
   "nbconvert_exporter": "python",
   "pygments_lexer": "ipython3",
   "version": "3.8.5"
  },
  "metadata": {
   "interpreter": {
    "hash": "3c7578cda80827723bf9258838bf126b793cd08241078dae446e5c3babaae6d0"
   }
  },
  "orig_nbformat": 2
 },
 "nbformat": 4,
 "nbformat_minor": 2
}